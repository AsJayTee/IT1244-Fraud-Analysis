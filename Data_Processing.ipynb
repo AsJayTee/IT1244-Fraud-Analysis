{
 "cells": [
  {
   "cell_type": "code",
   "execution_count": 1,
   "metadata": {},
   "outputs": [],
   "source": [
    "## Import packages\n",
    "import pandas as pd\n",
    "import numpy as np\n",
    "from sklearn.decomposition import PCA\n",
    "from sklearn.preprocessing import StandardScaler, OneHotEncoder"
   ]
  },
  {
   "cell_type": "code",
   "execution_count": null,
   "metadata": {},
   "outputs": [],
   "source": [
    "## Data Importing functions\n",
    "\n",
    "def import_client(filepath : str = \"Data/client.csv\") -> pd.DataFrame:\n",
    "    \"\"\"\n",
    "    Function to import client dataset.\n",
    "    \"\"\"\n",
    "    return pd.read_csv(filepath)\n",
    "\n",
    "def import_invoice(filepath : str = \"Data/invoice.csv\") -> pd.DataFrame:\n",
    "    \"\"\"\n",
    "    Function to import invoice dataset.\n",
    "    \"\"\"\n",
    "    return pd.read_csv(filepath)"
   ]
  },
  {
   "cell_type": "code",
   "execution_count": null,
   "metadata": {},
   "outputs": [],
   "source": [
    "## Data Preprocessing functions\n",
    "\n",
    "def convert_to_dates(df : pd.DataFrame) -> pd.DataFrame:\n",
    "    \"\"\"\n",
    "    Converts date column to datetime object.\n",
    "    *Column name 'date' is fixed for both datasets.\n",
    "    \"\"\"\n",
    "    df['date'] = pd.to_datetime(df['date'])\n",
    "    return df\n",
    "\n",
    "def drop_duplicates(df : pd.DataFrame) -> pd.DataFrame:\n",
    "    \"\"\"\n",
    "    Prints the result of a duplicate check.\n",
    "    Drops duplicates if they exist.\n",
    "    \"\"\"\n",
    "    if df.duplicated().any(): # Duplicates check\n",
    "        print(\"Duplicates found! Cleaning them up...\")\n",
    "        df = df.drop_duplicates() # Drops duplicates\n",
    "        df = df.reset_index(drop = True) # Resets indexes\n",
    "    else:\n",
    "        print(\"No duplicates found!\")\n",
    "    return df\n",
    "\n",
    "def convert_to_categorical(\n",
    "        df : pd.DataFrame,\n",
    "        cols : list[str]\n",
    "        ) -> pd.DataFrame:\n",
    "    \"\"\"\n",
    "    Converts list of column names to categorical datatype.\n",
    "    \"\"\"\n",
    "    df[cols] = df[cols].astype('category')\n",
    "    return df\n"
   ]
  },
  {
   "cell_type": "code",
   "execution_count": null,
   "metadata": {},
   "outputs": [],
   "source": [
    "## Data Feature Engineering functions\n",
    "\n",
    "def aggregate_invoice(df : pd.DataFrame) -> pd.DataFrame:\n",
    "    \"\"\"\n",
    "    Aggregate the invoice dataframe by id and generate features.\n",
    "    Calculates sum, mean, max, and std for each consommation_level\n",
    "    and counts number of invoices under each id.\n",
    "    \"\"\"\n",
    "    df = df.groupby('id').agg({ # Aggregate by id\n",
    "        # Calculate sum, mean, max, and std for each consm_level\n",
    "        'consommation_level_1': ['sum', 'mean', 'max', 'std'],\n",
    "        'consommation_level_2': ['sum', 'mean', 'max', 'std'],\n",
    "        'consommation_level_3': ['sum', 'mean', 'max', 'std'],\n",
    "        'consommation_level_4': ['sum', 'mean', 'max', 'std'],\n",
    "        'counter_statue': 'count', # Count number of invoices\n",
    "    }).reset_index()\n",
    "    df.columns = [\n",
    "        # Join by _ if more than 2 parts to the column name exists\n",
    "        '_'.join(col).strip() if col[1] \n",
    "        else col[0] # Else use original name\n",
    "        for col in df.columns.values # For each column name value\n",
    "    ]\n",
    "    return df\n",
    "\n",
    "def manual_fix_names(\n",
    "        df : pd.DataFrame,\n",
    "        new_col_names : list[str]\n",
    "        ) -> pd.DataFrame:\n",
    "    \"\"\"\n",
    "    Manually sets the column names of a dataframe.\n",
    "    \"\"\"\n",
    "    df.columns = new_col_names\n",
    "    return df\n"
   ]
  },
  {
   "cell_type": "code",
   "execution_count": null,
   "metadata": {},
   "outputs": [],
   "source": [
    "## Data Joining functions\n",
    "\n",
    "def merge(\n",
    "        client_df : pd.DataFrame,\n",
    "        invoice_df : pd.DataFrame,\n",
    "        merge_by : str = \"id\"\n",
    "        ) -> pd.DataFrame:\n",
    "    \"\"\"\n",
    "    Merges two dataframes.\n",
    "    Merges on 'id' column by default (for client and invoice).\n",
    "    \"\"\"\n",
    "    merged_df = pd.merge(\n",
    "        client_df, invoice_df, on = merge_by)\n",
    "    return merged_df\n"
   ]
  }
 ],
 "metadata": {
  "kernelspec": {
   "display_name": ".venv",
   "language": "python",
   "name": "python3"
  },
  "language_info": {
   "codemirror_mode": {
    "name": "ipython",
    "version": 3
   },
   "file_extension": ".py",
   "mimetype": "text/x-python",
   "name": "python",
   "nbconvert_exporter": "python",
   "pygments_lexer": "ipython3",
   "version": "3.12.1"
  }
 },
 "nbformat": 4,
 "nbformat_minor": 2
}
