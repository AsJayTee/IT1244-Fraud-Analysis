{
 "cells": [
  {
   "cell_type": "markdown",
   "metadata": {},
   "source": [
    "Creating a Python function that takes in actual labels and predicted labels and returns these key metrics (Accuracy, Precision, Recall, F1-score, ROC-AUC, and the Confusion Matrix)."
   ]
  },
  {
   "cell_type": "code",
   "execution_count": 1,
   "metadata": {},
   "outputs": [],
   "source": [
    "from sklearn.metrics import accuracy_score, precision_score, recall_score, f1_score, roc_auc_score, confusion_matrix\n",
    "\n",
    "def evaluate_model(y_true, y_pred, y_pred_proba=None):\n",
    "\n",
    "# Initialize dictionary to hold all evaluation metrics\n",
    "    metrics = {}\n",
    "\n",
    "    # Calculate and store the evaluation metrics\n",
    "    metrics['Accuracy'] = accuracy_score(y_true, y_pred)\n",
    "    metrics['Precision'] = precision_score(y_true, y_pred, zero_division=0)\n",
    "    metrics['Recall'] = recall_score(y_true, y_pred, zero_division=0)\n",
    "    metrics['F1-Score'] = f1_score(y_true, y_pred, zero_division=0)\n",
    "\n",
    "    # Confusion matrix: True Positives, False Positives, True Negatives, False Negatives\n",
    "    tn, fp, fn, tp = confusion_matrix(y_true, y_pred).ravel()\n",
    "    metrics['Confusion Matrix'] = {\n",
    "        'True Positives': tp,\n",
    "        'False Positives': fp,\n",
    "        'True Negatives': tn,\n",
    "        'False Negatives': fn\n",
    "    }\n",
    "    \n",
    "    # ROC-AUC Score (only if predicted probabilities are provided)\n",
    "    if y_pred_proba is not None:\n",
    "        metrics['ROC-AUC'] = roc_auc_score(y_true, y_pred_proba)\n",
    "    \n",
    "    return metrics\n"
   ]
  },
  {
   "cell_type": "markdown",
   "metadata": {},
   "source": [
    "Example of using it in practice:"
   ]
  },
  {
   "cell_type": "code",
   "execution_count": 2,
   "metadata": {},
   "outputs": [
    {
     "ename": "NameError",
     "evalue": "name 'rf_model' is not defined",
     "output_type": "error",
     "traceback": [
      "\u001b[0;31m---------------------------------------------------------------------------\u001b[0m",
      "\u001b[0;31mNameError\u001b[0m                                 Traceback (most recent call last)",
      "Cell \u001b[0;32mIn[2], line 5\u001b[0m\n\u001b[1;32m      1\u001b[0m \u001b[38;5;66;03m# Assuming `y_test` are actual labels and `y_pred` are predicted labels\u001b[39;00m\n\u001b[1;32m      2\u001b[0m \u001b[38;5;66;03m# If you have predicted probabilities (for ROC-AUC), include `y_pred_proba` as well\u001b[39;00m\n\u001b[1;32m      3\u001b[0m \n\u001b[1;32m      4\u001b[0m \u001b[38;5;66;03m# Example\u001b[39;00m\n\u001b[0;32m----> 5\u001b[0m y_pred \u001b[38;5;241m=\u001b[39m \u001b[43mrf_model\u001b[49m\u001b[38;5;241m.\u001b[39mpredict(X_test_scaled)\n\u001b[1;32m      6\u001b[0m y_pred_proba \u001b[38;5;241m=\u001b[39m rf_model\u001b[38;5;241m.\u001b[39mpredict_proba(X_test_scaled)[:, \u001b[38;5;241m1\u001b[39m]  \u001b[38;5;66;03m# Probabilities for the positive class (fraud)\u001b[39;00m\n\u001b[1;32m      8\u001b[0m \u001b[38;5;66;03m# Call the evaluation function\u001b[39;00m\n",
      "\u001b[0;31mNameError\u001b[0m: name 'rf_model' is not defined"
     ]
    }
   ],
   "source": [
    "# Assuming `y_test` are actual labels and `y_pred` are predicted labels\n",
    "# If you have predicted probabilities (for ROC-AUC), include `y_pred_proba` as well\n",
    "\n",
    "# Example\n",
    "y_pred = rf_model.predict(X_test_scaled)\n",
    "y_pred_proba = rf_model.predict_proba(X_test_scaled)[:, 1]  # Probabilities for the positive class (fraud)\n",
    "\n",
    "# Call the evaluation function\n",
    "evaluation_results = evaluate_model(y_test, y_pred, y_pred_proba)\n",
    "\n",
    "# Print results\n",
    "for metric, value in evaluation_results.items():\n",
    "    print(f\"{metric}: {value}\")"
   ]
  },
  {
   "cell_type": "markdown",
   "metadata": {},
   "source": [
    "Visualising Confusion Matrix:"
   ]
  },
  {
   "cell_type": "code",
   "execution_count": 4,
   "metadata": {},
   "outputs": [
    {
     "ename": "NameError",
     "evalue": "name 'y_test' is not defined",
     "output_type": "error",
     "traceback": [
      "\u001b[0;31m---------------------------------------------------------------------------\u001b[0m",
      "\u001b[0;31mNameError\u001b[0m                                 Traceback (most recent call last)",
      "Cell \u001b[0;32mIn[4], line 16\u001b[0m\n\u001b[1;32m     13\u001b[0m     plt\u001b[38;5;241m.\u001b[39mshow()\n\u001b[1;32m     15\u001b[0m \u001b[38;5;66;03m# Plot confusion matrix\u001b[39;00m\n\u001b[0;32m---> 16\u001b[0m plot_confusion_matrix(\u001b[43my_test\u001b[49m, y_pred)\n",
      "\u001b[0;31mNameError\u001b[0m: name 'y_test' is not defined"
     ]
    }
   ],
   "source": [
    "import seaborn as sns\n",
    "import matplotlib.pyplot as plt\n",
    "from sklearn.metrics import confusion_matrix\n",
    "\n",
    "def plot_confusion_matrix(y_true, y_pred):\n",
    "    cm = confusion_matrix(y_true, y_pred)\n",
    "    sns.heatmap(cm, annot=True, fmt='d', cmap='Blues', cbar=False,\n",
    "                xticklabels=['Non-Fraud', 'Fraud'],\n",
    "                yticklabels=['Non-Fraud', 'Fraud'])\n",
    "    plt.xlabel('Predicted')\n",
    "    plt.ylabel('Actual')\n",
    "    plt.title('Confusion Matrix')\n",
    "    plt.show()\n",
    "\n",
    "# Plot confusion matrix\n",
    "plot_confusion_matrix(y_test, y_pred)"
   ]
  },
  {
   "cell_type": "markdown",
   "metadata": {},
   "source": [
    "Evaluation of models:"
   ]
  },
  {
   "cell_type": "code",
   "execution_count": null,
   "metadata": {},
   "outputs": [],
   "source": [
    "from sklearn.metrics import roc_auc_score\n",
    "from sklearn.model_selection import train_test_split\n",
    "from sklearn.datasets import make_classification\n",
    "\n",
    "def evaluate_models_auc(models, params):\n",
    "    \"\"\"\n",
    "    Evaluates a list of models by training each model with the corresponding parameters \n",
    "    and calculates ROC-AUC, returning models sorted by their AUC-ROC score in descending order.\n",
    "\n",
    "    Parameters:\n",
    "        models (list): A list of model functions (e.g., LogisticRegression, RandomForestClassifier).\n",
    "        params (list): A list of dictionaries containing the parameters for each model.\n",
    "        \n",
    "    Returns:\n",
    "        list of tuples: A list of (model_name, ROC-AUC score) tuples, sorted by AUC-ROC score in descending order.\n",
    "    \"\"\"\n",
    "    \n",
    "    # Create a synthetic dataset (for demonstration purposes, replace this with your own dataset loading)\n",
    "    X, y = make_classification(n_samples=1000, n_features=20, n_classes=2, random_state=42)\n",
    "    \n",
    "    # Split the data into training and testing sets\n",
    "    X_train, X_test, y_train, y_test = train_test_split(X, y, test_size=0.3, random_state=42, stratify=y)\n",
    "    \n",
    "    # List to store the model names and AUC-ROC scores\n",
    "    roc_auc_results = []\n",
    "    \n",
    "    # Iterate through the models and params lists\n",
    "    for model_func, param_dict in zip(models, params):\n",
    "        \n",
    "        # Initialize the model with the given parameters\n",
    "        model = model_func(**param_dict)\n",
    "        \n",
    "        # Train the model\n",
    "        model.fit(X_train, y_train)\n",
    "        \n",
    "        # Get predicted probabilities (for ROC-AUC, we need probabilities, not class labels)\n",
    "        y_pred_proba = model.predict_proba(X_test)[:, 1]  # Probabilities for the positive class\n",
    "        \n",
    "        # Calculate the ROC-AUC score\n",
    "        roc_auc = roc_auc_score(y_test, y_pred_proba)\n",
    "        \n",
    "        # Store the model name and its ROC-AUC score\n",
    "        roc_auc_results.append((model_func.__name__, roc_auc))\n",
    "    \n",
    "    # Sort the models by their AUC-ROC score in descending order\n",
    "    roc_auc_results.sort(key=lambda x: x[1], reverse=True)\n",
    "    \n",
    "    return roc_auc_results\n",
    "\n",
    "# Example usage:\n",
    "\n",
    "# Import some classifiers\n",
    "from sklearn.linear_model import LogisticRegression\n",
    "from sklearn.ensemble import RandomForestClassifier\n",
    "from sklearn.svm import SVC\n",
    "\n",
    "# Define the models (as functions) and corresponding parameters\n",
    "models = [LogisticRegression, RandomForestClassifier, SVC]\n",
    "params = [\n",
    "    {'random_state': 42, 'max_iter': 1000},  # Parameters for Logistic Regression\n",
    "    {'n_estimators': 100, 'random_state': 42},  # Parameters for Random Forest\n",
    "    {'probability': True, 'random_state': 42}  # Parameters for SVC (needs probability=True for predict_proba)\n",
    "]\n",
    "\n",
    "# Call the evaluation function\n",
    "roc_auc_results = evaluate_models_auc(models, params)\n",
    "\n",
    "# Print the sorted ROC-AUC scores\n",
    "print(\"Models sorted by ROC-AUC score:\")\n",
    "for model_name, auc_score in roc_auc_results:\n",
    "    print(f\"{model_name}: {auc_score}\")\n"
   ]
  }
 ],
 "metadata": {
  "kernelspec": {
   "display_name": ".venv",
   "language": "python",
   "name": "python3"
  },
  "language_info": {
   "codemirror_mode": {
    "name": "ipython",
    "version": 3
   },
   "file_extension": ".py",
   "mimetype": "text/x-python",
   "name": "python",
   "nbconvert_exporter": "python",
   "pygments_lexer": "ipython3",
   "version": "3.12.1"
  }
 },
 "nbformat": 4,
 "nbformat_minor": 2
}
