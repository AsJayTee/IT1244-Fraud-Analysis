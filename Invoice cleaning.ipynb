{
 "cells": [
  {
   "cell_type": "markdown",
   "metadata": {},
   "source": [
    "Started with pandas.\n",
    "Imported the invoice dataset.\n",
    "Check first few rows of the dataset."
   ]
  },
  {
   "cell_type": "code",
   "execution_count": 10,
   "metadata": {},
   "outputs": [
    {
     "name": "stdout",
     "output_type": "stream",
     "text": [
      "   id        date  tarif_type  counter_statue  reading_remarque  \\\n",
      "0   0   24/3/2014          11               0                 8   \n",
      "1   0   29/3/2013          11               0                 6   \n",
      "2   0   23/3/2015          11               0                 8   \n",
      "3   0   13/7/2015          11               0                 8   \n",
      "4   0  17/11/2016          11               0                 9   \n",
      "\n",
      "   consommation_level_4  months_number counter_type  counter_coefficient  \\\n",
      "0                     0              4         ELEC                    1   \n",
      "1                     0              4         ELEC                    1   \n",
      "2                     0              4         ELEC                    1   \n",
      "3                     0              4         ELEC                    1   \n",
      "4                     0             12         ELEC                    1   \n",
      "\n",
      "   consommation_level_1  consommation_level_2  consommation_level_3  \n",
      "0                    82                     0                     0  \n",
      "1                  1200                   184                     0  \n",
      "2                   123                     0                     0  \n",
      "3                   102                     0                     0  \n",
      "4                   572                     0                     0  \n"
     ]
    }
   ],
   "source": [
    "import pandas as pd\n",
    "\n",
    "# Load client and invoice data\n",
    "invoice_df = pd.read_csv(\"Data/invoice.csv\")\n",
    "\n",
    "# Preview\n",
    "print(invoice_df.head())"
   ]
  },
  {
   "cell_type": "markdown",
   "metadata": {},
   "source": [
    "Now, we parse dates as datetime objects. \n",
    "This ensures date data is processed correctly afterwards."
   ]
  },
  {
   "cell_type": "code",
   "execution_count": 11,
   "metadata": {},
   "outputs": [
    {
     "name": "stdout",
     "output_type": "stream",
     "text": [
      "0   2014-03-24\n",
      "1   2013-03-29\n",
      "2   2015-03-23\n",
      "3   2015-07-13\n",
      "4   2016-11-17\n",
      "Name: date, dtype: datetime64[ns]\n"
     ]
    }
   ],
   "source": [
    "# Convert date columns to datetime\n",
    "invoice_df['date'] = pd.to_datetime(invoice_df['date'], dayfirst=True)\n",
    "\n",
    "print(invoice_df['date'].head())"
   ]
  },
  {
   "cell_type": "markdown",
   "metadata": {},
   "source": [
    "We intend to classify clients, so we tried to summarise invoice data by client. For each client, we computed rough statistics such as the mean and standard deviation for our focus on consumption levels."
   ]
  },
  {
   "cell_type": "code",
   "execution_count": 12,
   "metadata": {},
   "outputs": [
    {
     "name": "stdout",
     "output_type": "stream",
     "text": [
      "    id  cons_level_1_sum  cons_level_1_mean  cons_level_1_max  \\\n",
      "0    0             12334         352.400000              1200   \n",
      "1    1             20629         557.540541              1207   \n",
      "2   10             14375         798.611111              2400   \n",
      "3   12              5724         357.750000               925   \n",
      "4  100                24           1.200000                15   \n",
      "\n",
      "   cons_level_1_std  cons_level_2_sum  cons_level_2_mean  cons_level_2_max  \\\n",
      "0        310.343472               370          10.571429               186   \n",
      "1        197.935960                 0           0.000000                 0   \n",
      "2        513.841374               682          37.888889               682   \n",
      "3        232.908995              1740         108.750000               422   \n",
      "4          3.607011                 0           0.000000                 0   \n",
      "\n",
      "   cons_level_2_std  cons_level_3_sum  cons_level_3_mean  cons_level_3_max  \\\n",
      "0         43.568935                 0              0.000                 0   \n",
      "1          0.000000                 0              0.000                 0   \n",
      "2        160.748942                 0              0.000                 0   \n",
      "3        150.329194               266             16.625               266   \n",
      "4          0.000000                 0              0.000                 0   \n",
      "\n",
      "   cons_level_3_std  cons_level_4_sum  cons_level_4_mean  cons_level_4_max  \\\n",
      "0               0.0                 0                0.0                 0   \n",
      "1               0.0                 0                0.0                 0   \n",
      "2               0.0                 0                0.0                 0   \n",
      "3              66.5                 0                0.0                 0   \n",
      "4               0.0                 0                0.0                 0   \n",
      "\n",
      "   cons_level_4_std  num_invoices  \n",
      "0               0.0            35  \n",
      "1               0.0            37  \n",
      "2               0.0            18  \n",
      "3               0.0            16  \n",
      "4               0.0            20  \n"
     ]
    }
   ],
   "source": [
    "# Aggregating invoice data by client 'id'\n",
    "invoice_by_id = invoice_df.groupby('id').agg({\n",
    "    'consommation_level_1': ['sum', 'mean', 'max', 'std'],\n",
    "    'consommation_level_2': ['sum', 'mean', 'max', 'std'],\n",
    "    'consommation_level_3': ['sum', 'mean', 'max', 'std'],\n",
    "    'consommation_level_4': ['sum', 'mean', 'max', 'std'],\n",
    "    'counter_statue': 'count',  # How many invoices per client\n",
    "}).reset_index()\n",
    "\n",
    "invoice_by_id.columns = ['_'.join(col).strip() if col[1] else col[0] for col in invoice_by_id.columns.values]\n",
    "\n",
    "# Rename columns after aggregation\n",
    "invoice_by_id.columns = ['id', \n",
    "                       'cons_level_1_sum', 'cons_level_1_mean', 'cons_level_1_max', 'cons_level_1_std',\n",
    "                       'cons_level_2_sum', 'cons_level_2_mean', 'cons_level_2_max', 'cons_level_2_std',\n",
    "                       'cons_level_3_sum', 'cons_level_3_mean', 'cons_level_3_max', 'cons_level_3_std',\n",
    "                       'cons_level_4_sum', 'cons_level_4_mean', 'cons_level_4_max', 'cons_level_4_std',\n",
    "                       'num_invoices']\n",
    "\n",
    "# Preview the data\n",
    "print(invoice_by_id.head())\n",
    "\n",
    "# Save as new file\n",
    "invoice_by_id.to_csv(\"Data/invoice_cleaned.csv\", index=False)\n"
   ]
  }
 ],
 "metadata": {
  "kernelspec": {
   "display_name": ".venv",
   "language": "python",
   "name": "python3"
  },
  "language_info": {
   "codemirror_mode": {
    "name": "ipython",
    "version": 3
   },
   "file_extension": ".py",
   "mimetype": "text/x-python",
   "name": "python",
   "nbconvert_exporter": "python",
   "pygments_lexer": "ipython3",
   "version": "3.12.1"
  }
 },
 "nbformat": 4,
 "nbformat_minor": 2
}
