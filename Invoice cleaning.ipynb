{
 "cells": [
  {
   "cell_type": "code",
   "execution_count": 7,
   "metadata": {},
   "outputs": [
    {
     "name": "stdout",
     "output_type": "stream",
     "text": [
      "   region        date  dis    id  catg  target\n",
      "0     101  31/12/1994   60     0    11       0\n",
      "1     107   29/5/2002   69     1    11       0\n",
      "2     301   13/3/1986   62    10    11       0\n",
      "3     105   11/7/1996   69   100    11       0\n",
      "4     303  14/10/2014   62  1000    11       0\n",
      "   id        date  tarif_type  counter_statue  reading_remarque  \\\n",
      "0   0   24/3/2014          11               0                 8   \n",
      "1   0   29/3/2013          11               0                 6   \n",
      "2   0   23/3/2015          11               0                 8   \n",
      "3   0   13/7/2015          11               0                 8   \n",
      "4   0  17/11/2016          11               0                 9   \n",
      "\n",
      "   consommation_level_4  months_number counter_type  counter_coefficient  \\\n",
      "0                     0              4         ELEC                    1   \n",
      "1                     0              4         ELEC                    1   \n",
      "2                     0              4         ELEC                    1   \n",
      "3                     0              4         ELEC                    1   \n",
      "4                     0             12         ELEC                    1   \n",
      "\n",
      "   consommation_level_1  consommation_level_2  consommation_level_3  \n",
      "0                    82                     0                     0  \n",
      "1                  1200                   184                     0  \n",
      "2                   123                     0                     0  \n",
      "3                   102                     0                     0  \n",
      "4                   572                     0                     0  \n"
     ]
    }
   ],
   "source": [
    "import pandas as pd\n",
    "\n",
    "# Load client and invoice data\n",
    "client_df = pd.read_csv(\"client.csv\")\n",
    "invoice_df = pd.read_csv(\"invoice.csv\")\n",
    "\n",
    "# Preview\n",
    "print(client_df.head())\n",
    "print(invoice_df.head())"
   ]
  }
 ],
 "metadata": {
  "kernelspec": {
   "display_name": ".venv",
   "language": "python",
   "name": "python3"
  },
  "language_info": {
   "codemirror_mode": {
    "name": "ipython",
    "version": 3
   },
   "file_extension": ".py",
   "mimetype": "text/x-python",
   "name": "python",
   "nbconvert_exporter": "python",
   "pygments_lexer": "ipython3",
   "version": "3.12.1"
  }
 },
 "nbformat": 4,
 "nbformat_minor": 2
}
