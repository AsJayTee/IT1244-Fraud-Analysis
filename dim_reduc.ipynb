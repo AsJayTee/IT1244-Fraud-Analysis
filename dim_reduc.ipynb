{
 "cells": [
  {
   "cell_type": "code",
   "execution_count": null,
   "metadata": {},
   "outputs": [],
   "source": [
    "# Import packages\n",
    "import numpy as np\n",
    "import pandas as pd\n",
    "from sklearn.decomposition import PCA\n",
    "from sklearn.preprocessing import StandardScaler"
   ]
  },
  {
   "cell_type": "code",
   "execution_count": null,
   "metadata": {},
   "outputs": [],
   "source": [
    "filepath = \"Data/{filename}.csv\" # TO UPDATE after feature engineering is complete\n",
    "\n",
    "# Column names from feature engineered dataset\n",
    "response_col_name = \"\" # Response col\n",
    "cat_col_names = [] # Categorical col \n",
    "num_col_names = [] # Numerical col"
   ]
  },
  {
   "cell_type": "code",
   "execution_count": null,
   "metadata": {},
   "outputs": [],
   "source": [
    "df = pd.read_csv(filepath) # Import data\n",
    "\n",
    "X_num = df[num_col_names].values # Numerical columns\n",
    "X_cat = df[cat_col_names].values # Categorical columns\n",
    "\n",
    "scaler = StandardScaler()\n",
    "X_num_scaled = scaler.fit_transform(X_num) # Scale numerical columns to undergo PCA\n",
    "pca = PCA(n_components = 0.95) # Keep 95% of the variance\n",
    "X_pca = pca.fit_transform(X_num_scaled) \n",
    "\n",
    "pca_columns = [f'PC{i+1}' for i in range(X_pca.shape[1])]\n",
    "df_pca = pd.DataFrame(X_pca, columns = pca_columns)\n",
    "\n",
    "df_modified = pd.concat([df_pca, pd.DataFrame(X_cat, columns = cat_col_names)], axis = 1)"
   ]
  },
  {
   "cell_type": "code",
   "execution_count": null,
   "metadata": {},
   "outputs": [],
   "source": [
    "print(f\"Number of components selected: {pca.n_components_}\")\n",
    "print(\"Explained variance ratio for each component:\", pca.explained_variance_ratio_)\n",
    "print(\"Cumulative explained variance:\", pca.explained_variance_ratio_.cumsum())\n",
    "print(\"Final DataFrame with PCA applied to numeric columns:\")\n",
    "print(df_modified.head())"
   ]
  }
 ],
 "metadata": {
  "kernelspec": {
   "display_name": ".venv",
   "language": "python",
   "name": "python3"
  },
  "language_info": {
   "name": "python",
   "version": "3.12.1"
  }
 },
 "nbformat": 4,
 "nbformat_minor": 2
}
