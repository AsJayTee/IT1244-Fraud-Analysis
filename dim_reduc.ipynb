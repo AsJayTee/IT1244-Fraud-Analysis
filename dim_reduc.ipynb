{
 "cells": [
  {
   "cell_type": "code",
   "execution_count": null,
   "metadata": {},
   "outputs": [],
   "source": [
    "# Import packages\n",
    "import numpy as np\n",
    "import pandas as pd"
   ]
  },
  {
   "cell_type": "code",
   "execution_count": null,
   "metadata": {},
   "outputs": [],
   "source": [
    "filepath = \"Data/{filename}.csv\" # TO UPDATE after feature engineering is complete\n",
    "\n",
    "# Column names from feature engineered dataset\n",
    "cat_col_names = [] # Categorical col \n",
    "num_col_names = [] # Numerical col"
   ]
  }
 ],
 "metadata": {
  "kernelspec": {
   "display_name": ".venv",
   "language": "python",
   "name": "python3"
  },
  "language_info": {
   "name": "python",
   "version": "3.12.1"
  }
 },
 "nbformat": 4,
 "nbformat_minor": 2
}
